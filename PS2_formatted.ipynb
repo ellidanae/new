{
 "cells": [
  {
   "cell_type": "markdown",
   "metadata": {},
   "source": [
    "###### 1.00/1.001 Engineering Computation and Data Science\n",
    "# Problem Set 2\n",
    "#### Due before March 3rd 2021 11:59 PM"
   ]
  },
  {
   "cell_type": "code",
   "execution_count": 1,
   "metadata": {},
   "outputs": [],
   "source": [
    "# Useful Relevant Import Statements\n",
    "import numpy as np\n",
    "import pandas as pd\n",
    "import matplotlib.pyplot as plt\n",
    "\n",
    "# Boilerplate Answer Declaration\n",
    "your_answer_here = '{{replace this variable with the your own statement for the correct code. }}'\n",
    "\n",
    "# If you feel you need to import additional libraries,\n",
    "# you can do so in the relevant question"
   ]
  },
  {
   "cell_type": "markdown",
   "metadata": {},
   "source": [
    "## 2.1) What day of the week was 1/1/1970"
   ]
  },
  {
   "cell_type": "code",
   "execution_count": 134,
   "metadata": {},
   "outputs": [
    {
     "name": "stdout",
     "output_type": "stream",
     "text": [
      "January 1st 1970 was a Thursday\n"
     ]
    }
   ],
   "source": [
    "import numpy as np\n",
    "import pandas as pd\n",
    "import matplotlib.pyplot as plt\n",
    "\n",
    "\n",
    "myArray = np.array([1,2,3,4,5,6,7])\n",
    "mySeries = pd.Series(myArray)\n",
    "\n",
    "mySeries.index = pd.date_range(start='1/1/1970', periods=7)\n",
    "mySeries.index.dayofweek\n",
    "\n",
    "# # Your Code Goes Here\n",
    "myArray = np.array([1,2,3,4,5,6,7]) #dummy array which has the space for 7 days #days of the week: pythons starts the week with 0\n",
    "\n",
    "mySeries = pd.Series(myArray) #converting array in series == matrix with index\n",
    "\n",
    "mySeries.index = pd.date_range(start='1/1/1970', periods=7)#replace index of fierls with index of dates\n",
    "mySeries.index\n",
    "dayName = mySeries.index.day_name()[0]\n",
    "\n",
    "print (\"January 1st 1970 was a\", dayName)"
   ]
  },
  {
   "cell_type": "markdown",
   "metadata": {},
   "source": [
    "## 2.2) UFO Data Analysis"
   ]
  },
  {
   "cell_type": "code",
   "execution_count": 3,
   "metadata": {},
   "outputs": [
    {
     "data": {
      "text/html": [
       "<div>\n",
       "<style scoped>\n",
       "    .dataframe tbody tr th:only-of-type {\n",
       "        vertical-align: middle;\n",
       "    }\n",
       "\n",
       "    .dataframe tbody tr th {\n",
       "        vertical-align: top;\n",
       "    }\n",
       "\n",
       "    .dataframe thead th {\n",
       "        text-align: right;\n",
       "    }\n",
       "</style>\n",
       "<table border=\"1\" class=\"dataframe\">\n",
       "  <thead>\n",
       "    <tr style=\"text-align: right;\">\n",
       "      <th></th>\n",
       "      <th>City</th>\n",
       "      <th>Colors Reported</th>\n",
       "      <th>Shape Reported</th>\n",
       "      <th>State</th>\n",
       "      <th>Time</th>\n",
       "    </tr>\n",
       "  </thead>\n",
       "  <tbody>\n",
       "    <tr>\n",
       "      <th>0</th>\n",
       "      <td>Ithaca</td>\n",
       "      <td>NaN</td>\n",
       "      <td>TRIANGLE</td>\n",
       "      <td>NY</td>\n",
       "      <td>1930-06-01 22:00:00</td>\n",
       "    </tr>\n",
       "    <tr>\n",
       "      <th>1</th>\n",
       "      <td>Willingboro</td>\n",
       "      <td>NaN</td>\n",
       "      <td>OTHER</td>\n",
       "      <td>NJ</td>\n",
       "      <td>1930-06-30 20:00:00</td>\n",
       "    </tr>\n",
       "    <tr>\n",
       "      <th>2</th>\n",
       "      <td>Holyoke</td>\n",
       "      <td>NaN</td>\n",
       "      <td>OVAL</td>\n",
       "      <td>CO</td>\n",
       "      <td>1931-02-15 14:00:00</td>\n",
       "    </tr>\n",
       "    <tr>\n",
       "      <th>3</th>\n",
       "      <td>Abilene</td>\n",
       "      <td>NaN</td>\n",
       "      <td>DISK</td>\n",
       "      <td>KS</td>\n",
       "      <td>1931-06-01 13:00:00</td>\n",
       "    </tr>\n",
       "    <tr>\n",
       "      <th>4</th>\n",
       "      <td>New York Worlds Fair</td>\n",
       "      <td>NaN</td>\n",
       "      <td>LIGHT</td>\n",
       "      <td>NY</td>\n",
       "      <td>1933-04-18 19:00:00</td>\n",
       "    </tr>\n",
       "    <tr>\n",
       "      <th>...</th>\n",
       "      <td>...</td>\n",
       "      <td>...</td>\n",
       "      <td>...</td>\n",
       "      <td>...</td>\n",
       "      <td>...</td>\n",
       "    </tr>\n",
       "    <tr>\n",
       "      <th>18236</th>\n",
       "      <td>Grant Park</td>\n",
       "      <td>NaN</td>\n",
       "      <td>TRIANGLE</td>\n",
       "      <td>IL</td>\n",
       "      <td>2000-12-31 23:00:00</td>\n",
       "    </tr>\n",
       "    <tr>\n",
       "      <th>18237</th>\n",
       "      <td>Spirit Lake</td>\n",
       "      <td>NaN</td>\n",
       "      <td>DISK</td>\n",
       "      <td>IA</td>\n",
       "      <td>2000-12-31 23:00:00</td>\n",
       "    </tr>\n",
       "    <tr>\n",
       "      <th>18238</th>\n",
       "      <td>Eagle River</td>\n",
       "      <td>NaN</td>\n",
       "      <td>NaN</td>\n",
       "      <td>WI</td>\n",
       "      <td>2000-12-31 23:45:00</td>\n",
       "    </tr>\n",
       "    <tr>\n",
       "      <th>18239</th>\n",
       "      <td>Eagle River</td>\n",
       "      <td>RED</td>\n",
       "      <td>LIGHT</td>\n",
       "      <td>WI</td>\n",
       "      <td>2000-12-31 23:45:00</td>\n",
       "    </tr>\n",
       "    <tr>\n",
       "      <th>18240</th>\n",
       "      <td>Ybor</td>\n",
       "      <td>NaN</td>\n",
       "      <td>OVAL</td>\n",
       "      <td>FL</td>\n",
       "      <td>2000-12-31 23:59:00</td>\n",
       "    </tr>\n",
       "  </tbody>\n",
       "</table>\n",
       "<p>18241 rows × 5 columns</p>\n",
       "</div>"
      ],
      "text/plain": [
       "                       City Colors Reported Shape Reported State  \\\n",
       "0                    Ithaca             NaN       TRIANGLE    NY   \n",
       "1               Willingboro             NaN          OTHER    NJ   \n",
       "2                   Holyoke             NaN           OVAL    CO   \n",
       "3                   Abilene             NaN           DISK    KS   \n",
       "4      New York Worlds Fair             NaN          LIGHT    NY   \n",
       "...                     ...             ...            ...   ...   \n",
       "18236            Grant Park             NaN       TRIANGLE    IL   \n",
       "18237           Spirit Lake             NaN           DISK    IA   \n",
       "18238           Eagle River             NaN            NaN    WI   \n",
       "18239           Eagle River             RED          LIGHT    WI   \n",
       "18240                  Ybor             NaN           OVAL    FL   \n",
       "\n",
       "                     Time  \n",
       "0     1930-06-01 22:00:00  \n",
       "1     1930-06-30 20:00:00  \n",
       "2     1931-02-15 14:00:00  \n",
       "3     1931-06-01 13:00:00  \n",
       "4     1933-04-18 19:00:00  \n",
       "...                   ...  \n",
       "18236 2000-12-31 23:00:00  \n",
       "18237 2000-12-31 23:00:00  \n",
       "18238 2000-12-31 23:45:00  \n",
       "18239 2000-12-31 23:45:00  \n",
       "18240 2000-12-31 23:59:00  \n",
       "\n",
       "[18241 rows x 5 columns]"
      ]
     },
     "execution_count": 3,
     "metadata": {},
     "output_type": "execute_result"
    }
   ],
   "source": [
    "# let's import the ufo data from the online collection\n",
    "ufo = pd.read_csv('http://bit.ly/uforeports', parse_dates=['Time'])\n",
    "\n",
    "# and get a preview of the data we're working with\n",
    "ufo"
   ]
  },
  {
   "cell_type": "markdown",
   "metadata": {},
   "source": [
    "### 2.2.1) What day of the week has the most sightings?"
   ]
  },
  {
   "cell_type": "code",
   "execution_count": 4,
   "metadata": {},
   "outputs": [
    {
     "name": "stdout",
     "output_type": "stream",
     "text": [
      "The most popular day of the week to report a UFO was Tuesday\n"
     ]
    }
   ],
   "source": [
    "# Your Code Goes Here\n",
    "dayNames = ufo['Time'].dt.day_name()\n",
    "\n",
    "ufo['Day Name'] = ufo['Time'].dt.day_name()\n",
    "\n",
    "dayNamesStats = dayNames.describe()\n",
    "\n",
    "# dayNamesStats['top']\n",
    "# dayNamesStats['count']\n",
    "\n",
    "dayOfWeek = dayNamesStats['top']\n",
    "\n",
    "print(\"The most popular day of the week to report a UFO was\", dayOfWeek)"
   ]
  },
  {
   "cell_type": "markdown",
   "metadata": {},
   "source": [
    "### 2.2.2) On the day of the week with most sightings plot a histogram the time of day the sightings occured\n",
    "Give the slight confusion on the earlier version of this question; we will accept a plot for the day of the week (*e.g. Saturday, Sunday, etc.*) with the most UFO sightings OR the calendar date (*e.g. January 19 2001, November 3 1989*) with the most UFO sightings."
   ]
  },
  {
   "cell_type": "code",
   "execution_count": 127,
   "metadata": {},
   "outputs": [
    {
     "name": "stdout",
     "output_type": "stream",
     "text": [
      "0        1930-06-01\n",
      "1        1930-06-30\n",
      "2        1931-02-15\n",
      "3        1931-06-01\n",
      "4        1933-04-18\n",
      "            ...    \n",
      "18236    2000-12-31\n",
      "18237    2000-12-31\n",
      "18238    2000-12-31\n",
      "18239    2000-12-31\n",
      "18240    2000-12-31\n",
      "Name: Time, Length: 18241, dtype: object\n"
     ]
    },
    {
     "data": {
      "image/png": "[encoded data removed]",
      "text/plain": [
       "<Figure size 432x288 with 1 Axes>"
      ]
     },
     "metadata": {
      "needs_background": "light"
     },
     "output_type": "display_data"
    }
   ],
   "source": [
    "ufo['Date'] = ufo['Time'].dt.date\n",
    "# print(ufo['Time'].dt.date)\n",
    "\n",
    "dateStats = ufo['Date'].describe()\n",
    "# dateStats\n",
    "dateStats['top']\n",
    "mostPopularDay = ufo.where(ufo['Date'] == dateStats['top'])\n",
    "mostPopularDay = mostPopularDay.dropna()\n",
    "\n",
    "\n",
    "#create coloumn with time\n",
    "mostPopularDay['TimeOfDay'] = mostPopularDay['Time'].dt.time\n",
    "\n",
    "#print(mostPopularDay['TimeOfDay'] )\n",
    "\n",
    "mostPopularDay['TimeOfDay'].value_counts()\n",
    "\n",
    "# plot\n",
    "fig, ax = plt.subplots()\n",
    "\n",
    "# histogram of the times\n",
    "mostPopularDay.hist(ax=ax, column=\"Time\", xrot=45, figsize=(9, 6))\n",
    "\n",
    "ax.set_title(\"Histogram of UFO Sightings on Most Popular Date\\n{date}\".format(date=dateStats['top']))\n",
    "ax.yaxis.set_label_text('Reported Sightings')\n",
    "ax.xaxis.set_label_text('Time')\n",
    "\n",
    "plt.show() "
   ]
  },
  {
   "cell_type": "markdown",
   "metadata": {},
   "source": [
    "### 2.2.3) Do the same for the calendar date with the 2nd most sightings"
   ]
  },
  {
   "cell_type": "code",
   "execution_count": 135,
   "metadata": {},
   "outputs": [
    {
     "data": {
      "image/png": "[encoded data removed]",
      "text/plain": [
       "<Figure size 432x288 with 1 Axes>"
      ]
     },
     "metadata": {
      "needs_background": "light"
     },
     "output_type": "display_data"
    }
   ],
   "source": [
    "import datetime\n",
    "\n",
    "ufo['Date'] = ufo['Time'].dt.date\n",
    "# print(ufo['Date'] )\n",
    "\n",
    "#second most sightings\n",
    "#dateStats2 = ufo['Date'].value_counts()[1:2].index.tolist()\n",
    "dateStats2 = ufo['Date'].value_counts()[1:2]\n",
    "dateStats2.index\n",
    "x = datetime.date(1997, 3, 13)\n",
    "x\n",
    "\n",
    "mostPopularDay2 = ufo.where(ufo['Date'] == x)\n",
    "mostPopularDay2 = mostPopularDay2.dropna()\n",
    "\n",
    "\n",
    "#create coloumn with time\n",
    "mostPopularDay2['TimeOfDay'] = mostPopularDay2['Time'].dt.time\n",
    "\n",
    "#print(mostPopularDay2['TimeOfDay'] )\n",
    "\n",
    "mostPopularDay2['TimeOfDay'].value_counts()\n",
    "\n",
    "# plot\n",
    "fig, ax = plt.subplots()\n",
    "\n",
    "# histogram of the times\n",
    "mostPopularDay2.hist(ax=ax, column=\"Time\", xrot=45, figsize=(9, 6))\n",
    "\n",
    "ax.set_title(\"Histogram of UFO Sightings on Second Most Popular Date\\n{date}\".format(date=x))\n",
    "ax.yaxis.set_label_text('Reported Sightings')\n",
    "ax.xaxis.set_label_text('Time')\n",
    "\n",
    "plt.show() "
   ]
  },
  {
   "cell_type": "markdown",
   "metadata": {},
   "source": [
    "### 2.2.4) For extra credit - Are there any deductions or patterns you see in the data? Justify with plots or data.\n",
    "One possible idea here, is to answer the opposite question you answered in 2.2.2. (*e.g. if you answered day of week then do calendar date here*); however, we will accept any observations you make here provided you substantiate them with data analysis."
   ]
  },
  {
   "cell_type": "code",
   "execution_count": 133,
   "metadata": {},
   "outputs": [
    {
     "data": {
      "text/plain": [
       "count          18241\n",
       "unique          5576\n",
       "top       1999-11-16\n",
       "freq             187\n",
       "Name: Date, dtype: object"
      ]
     },
     "execution_count": 133,
     "metadata": {},
     "output_type": "execute_result"
    }
   ],
   "source": [
    "# ufo['Date'] = ufo['Time'].dt.date\n",
    "# # print(ufo['Time'].dt.date)\n",
    "\n",
    "# dateStats = ufo['Date'].describe()\n",
    "# dateStats\n",
    "# dateStats['top']\n",
    "# mostPopularDay = ufo.where(ufo['Date'] == dateStats['top'])\n",
    "# mostPopularDay = mostPopularDay.dropna()\n",
    "\n",
    "\n",
    "# #create coloumn with time\n",
    "# mostPopularDay['TimeOfDay'] = mostPopularDay['Time'].dt.time\n",
    "\n",
    "# #print(mostPopularDay['TimeOfDay'] )\n",
    "\n",
    "# mostPopularDay['TimeOfDay'].value_counts()\n",
    "\n",
    "# # plot\n",
    "# fig, ax = plt.subplots()\n",
    "\n",
    "# # histogram of the times\n",
    "# mostPopularDay.hist(ax=ax, column=\"Time\", xrot=45, figsize=(9, 6))\n",
    "\n",
    "# ax.set_title(\"Histogram of UFO Sightings on Most Popular Date\\n{date}\".format(date=dateStats['top']))\n",
    "# ax.yaxis.set_label_text('Reported Sightings')\n",
    "# ax.xaxis.set_label_text('Time')\n",
    "\n",
    "# plt.show() "
   ]
  }
 ],
 "metadata": {
  "kernelspec": {
   "display_name": "Python 3",
   "language": "python",
   "name": "python3"
  },
  "language_info": {
   "codemirror_mode": {
    "name": "ipython",
    "version": 3
   },
   "file_extension": ".py",
   "mimetype": "text/x-python",
   "name": "python",
   "nbconvert_exporter": "python",
   "pygments_lexer": "ipython3",
   "version": "3.9.2"
  }
 },
 "nbformat": 4,
 "nbformat_minor": 4
}
